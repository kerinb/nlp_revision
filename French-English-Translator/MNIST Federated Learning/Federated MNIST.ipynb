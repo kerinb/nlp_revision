{
 "cells": [
  {
   "cell_type": "code",
   "execution_count": 18,
   "metadata": {},
   "outputs": [],
   "source": [
    "import torch\n",
    "import torch.nn as nn\n",
    "import torch.nn.functional as F\n",
    "import torch.optim as optim\n",
    "from torchvision import datasets, transforms\n",
    "import syft as sy  "
   ]
  },
  {
   "cell_type": "code",
   "execution_count": 31,
   "metadata": {},
   "outputs": [
    {
     "name": "stdout",
     "output_type": "stream",
     "text": [
      "Collecting syft\n",
      "  Downloading https://files.pythonhosted.org/packages/fe/8d/5c2d9931e1fa2f3770a2816896479e4f458558eacd60425a597164ea2c23/syft-0.1.26a1-py3-none-any.whl (291kB)\n",
      "Requirement already satisfied, skipping upgrade: numpy>=1.14.0 in d:\\anaconda\\envs\\pysyft\\lib\\site-packages (from syft) (1.17.0)\n",
      "Requirement already satisfied, skipping upgrade: Flask>=1.0.2 in d:\\anaconda\\envs\\pysyft\\lib\\site-packages (from syft) (1.0.3)\n",
      "Requirement already satisfied, skipping upgrade: flask-socketio>=3.3.2 in d:\\anaconda\\envs\\pysyft\\lib\\site-packages (from syft) (4.1.0)\n",
      "Requirement already satisfied, skipping upgrade: websockets>=7.0 in d:\\anaconda\\envs\\pysyft\\lib\\site-packages (from syft) (7.0)\n",
      "Requirement already satisfied, skipping upgrade: tf-encrypted!=0.5.7,>=0.5.4 in d:\\anaconda\\envs\\pysyft\\lib\\site-packages (from syft) (0.5.5)\n",
      "Requirement already satisfied, skipping upgrade: lz4>=2.1.6 in d:\\anaconda\\envs\\pysyft\\lib\\site-packages (from syft) (2.1.10)\n",
      "Requirement already satisfied, skipping upgrade: tblib>=1.4.0 in d:\\anaconda\\envs\\pysyft\\lib\\site-packages (from syft) (1.4.0)\n",
      "Requirement already satisfied, skipping upgrade: scikit-learn>=0.21.0 in d:\\anaconda\\envs\\pysyft\\lib\\site-packages (from syft) (0.21.2)\n",
      "Requirement already satisfied, skipping upgrade: zstd>=1.4.0.0 in d:\\anaconda\\envs\\pysyft\\lib\\site-packages (from syft) (1.4.0.0)\n",
      "Requirement already satisfied, skipping upgrade: websocket-client>=0.56.0 in d:\\anaconda\\envs\\pysyft\\lib\\site-packages (from syft) (0.56.0)\n",
      "Requirement already satisfied, skipping upgrade: torchvision==0.3.0 in d:\\anaconda\\envs\\pysyft\\lib\\site-packages (from syft) (0.3.0)\n",
      "Requirement already satisfied, skipping upgrade: torch==1.1 in d:\\anaconda\\envs\\pysyft\\lib\\site-packages (from syft) (1.1.0)\n",
      "Requirement already satisfied, skipping upgrade: msgpack>=0.6.1 in d:\\anaconda\\envs\\pysyft\\lib\\site-packages (from syft) (0.6.1)\n",
      "Requirement already satisfied, skipping upgrade: Jinja2>=2.10 in d:\\anaconda\\envs\\pysyft\\lib\\site-packages (from Flask>=1.0.2->syft) (2.10.1)\n",
      "Requirement already satisfied, skipping upgrade: Werkzeug>=0.14 in d:\\anaconda\\envs\\pysyft\\lib\\site-packages (from Flask>=1.0.2->syft) (0.15.4)\n",
      "Requirement already satisfied, skipping upgrade: itsdangerous>=0.24 in d:\\anaconda\\envs\\pysyft\\lib\\site-packages (from Flask>=1.0.2->syft) (1.1.0)\n",
      "Requirement already satisfied, skipping upgrade: click>=5.1 in d:\\anaconda\\envs\\pysyft\\lib\\site-packages (from Flask>=1.0.2->syft) (7.0)\n",
      "Requirement already satisfied, skipping upgrade: python-socketio>=2.1.0 in d:\\anaconda\\envs\\pysyft\\lib\\site-packages (from flask-socketio>=3.3.2->syft) (4.1.0)\n",
      "Requirement already satisfied, skipping upgrade: pyyaml>=5.1 in d:\\anaconda\\envs\\pysyft\\lib\\site-packages (from tf-encrypted!=0.5.7,>=0.5.4->syft) (5.1.1)\n",
      "Requirement already satisfied, skipping upgrade: tensorflow<2,>=1.12.0 in d:\\anaconda\\envs\\pysyft\\lib\\site-packages (from tf-encrypted!=0.5.7,>=0.5.4->syft) (1.14.0)\n",
      "Requirement already satisfied, skipping upgrade: scipy>=0.17.0 in d:\\anaconda\\envs\\pysyft\\lib\\site-packages (from scikit-learn>=0.21.0->syft) (1.3.0)\n",
      "Requirement already satisfied, skipping upgrade: joblib>=0.11 in d:\\anaconda\\envs\\pysyft\\lib\\site-packages (from scikit-learn>=0.21.0->syft) (0.13.2)\n",
      "Requirement already satisfied, skipping upgrade: six in d:\\anaconda\\envs\\pysyft\\lib\\site-packages (from websocket-client>=0.56.0->syft) (1.12.0)\n",
      "Requirement already satisfied, skipping upgrade: pillow>=4.1.1 in d:\\anaconda\\envs\\pysyft\\lib\\site-packages (from torchvision==0.3.0->syft) (6.0.0)\n",
      "Requirement already satisfied, skipping upgrade: MarkupSafe>=0.23 in d:\\anaconda\\envs\\pysyft\\lib\\site-packages (from Jinja2>=2.10->Flask>=1.0.2->syft) (1.1.1)\n",
      "Requirement already satisfied, skipping upgrade: python-engineio>=3.8.0 in d:\\anaconda\\envs\\pysyft\\lib\\site-packages (from python-socketio>=2.1.0->flask-socketio>=3.3.2->syft) (3.8.1)\n",
      "Requirement already satisfied, skipping upgrade: google-pasta>=0.1.6 in d:\\anaconda\\envs\\pysyft\\lib\\site-packages (from tensorflow<2,>=1.12.0->tf-encrypted!=0.5.7,>=0.5.4->syft) (0.1.7)\n",
      "Requirement already satisfied, skipping upgrade: protobuf>=3.6.1 in d:\\anaconda\\envs\\pysyft\\lib\\site-packages (from tensorflow<2,>=1.12.0->tf-encrypted!=0.5.7,>=0.5.4->syft) (3.8.0)\n",
      "Requirement already satisfied, skipping upgrade: grpcio>=1.8.6 in d:\\anaconda\\envs\\pysyft\\lib\\site-packages (from tensorflow<2,>=1.12.0->tf-encrypted!=0.5.7,>=0.5.4->syft) (1.21.1)\n",
      "Requirement already satisfied, skipping upgrade: keras-applications>=1.0.6 in d:\\anaconda\\envs\\pysyft\\lib\\site-packages (from tensorflow<2,>=1.12.0->tf-encrypted!=0.5.7,>=0.5.4->syft) (1.0.8)\n",
      "Requirement already satisfied, skipping upgrade: wrapt>=1.11.1 in d:\\anaconda\\envs\\pysyft\\lib\\site-packages (from tensorflow<2,>=1.12.0->tf-encrypted!=0.5.7,>=0.5.4->syft) (1.11.2)\n",
      "Requirement already satisfied, skipping upgrade: keras-preprocessing>=1.0.5 in d:\\anaconda\\envs\\pysyft\\lib\\site-packages (from tensorflow<2,>=1.12.0->tf-encrypted!=0.5.7,>=0.5.4->syft) (1.1.0)\n",
      "Requirement already satisfied, skipping upgrade: astor>=0.6.0 in d:\\anaconda\\envs\\pysyft\\lib\\site-packages (from tensorflow<2,>=1.12.0->tf-encrypted!=0.5.7,>=0.5.4->syft) (0.8.0)\n",
      "Requirement already satisfied, skipping upgrade: termcolor>=1.1.0 in d:\\anaconda\\envs\\pysyft\\lib\\site-packages (from tensorflow<2,>=1.12.0->tf-encrypted!=0.5.7,>=0.5.4->syft) (1.1.0)\n",
      "Requirement already satisfied, skipping upgrade: absl-py>=0.7.0 in d:\\anaconda\\envs\\pysyft\\lib\\site-packages (from tensorflow<2,>=1.12.0->tf-encrypted!=0.5.7,>=0.5.4->syft) (0.7.1)\n",
      "Requirement already satisfied, skipping upgrade: tensorboard<1.15.0,>=1.14.0 in d:\\anaconda\\envs\\pysyft\\lib\\site-packages (from tensorflow<2,>=1.12.0->tf-encrypted!=0.5.7,>=0.5.4->syft) (1.14.0)\n",
      "Requirement already satisfied, skipping upgrade: wheel>=0.26 in d:\\anaconda\\envs\\pysyft\\lib\\site-packages (from tensorflow<2,>=1.12.0->tf-encrypted!=0.5.7,>=0.5.4->syft) (0.33.4)\n",
      "Requirement already satisfied, skipping upgrade: tensorflow-estimator<1.15.0rc0,>=1.14.0rc0 in d:\\anaconda\\envs\\pysyft\\lib\\site-packages (from tensorflow<2,>=1.12.0->tf-encrypted!=0.5.7,>=0.5.4->syft) (1.14.0)\n",
      "Requirement already satisfied, skipping upgrade: gast>=0.2.0 in d:\\anaconda\\envs\\pysyft\\lib\\site-packages (from tensorflow<2,>=1.12.0->tf-encrypted!=0.5.7,>=0.5.4->syft) (0.2.2)\n",
      "Requirement already satisfied, skipping upgrade: setuptools in d:\\anaconda\\envs\\pysyft\\lib\\site-packages (from protobuf>=3.6.1->tensorflow<2,>=1.12.0->tf-encrypted!=0.5.7,>=0.5.4->syft) (41.0.1)\n",
      "Requirement already satisfied, skipping upgrade: h5py in d:\\anaconda\\envs\\pysyft\\lib\\site-packages (from keras-applications>=1.0.6->tensorflow<2,>=1.12.0->tf-encrypted!=0.5.7,>=0.5.4->syft) (2.9.0)\n",
      "Requirement already satisfied, skipping upgrade: markdown>=2.6.8 in d:\\anaconda\\envs\\pysyft\\lib\\site-packages (from tensorboard<1.15.0,>=1.14.0->tensorflow<2,>=1.12.0->tf-encrypted!=0.5.7,>=0.5.4->syft) (3.1.1)\n",
      "Installing collected packages: syft\n",
      "  Found existing installation: syft 0.1.18\n",
      "    Uninstalling syft-0.1.18:\n",
      "      Successfully uninstalled syft-0.1.18\n",
      "Successfully installed syft-0.1.26a1\n"
     ]
    }
   ],
   "source": [
    "!pip install --upgrade syft\n"
   ]
  },
  {
   "cell_type": "code",
   "execution_count": 19,
   "metadata": {},
   "outputs": [
    {
     "name": "stderr",
     "output_type": "stream",
     "text": [
      "W0909 21:21:34.768234 16484 hook.py:97] Torch was already hooked... skipping hooking process\n"
     ]
    }
   ],
   "source": [
    "hook = sy.TorchHook(torch) \n",
    "client = sy.VirtualWorker(hook, id=\"client\") \n",
    "bob = sy.VirtualWorker(hook, id=\"bob\")\n",
    "alice = sy.VirtualWorker(hook, id=\"alice\")\n",
    "crypto_provider = sy.VirtualWorker(hook, id=\"crypto_provider\") "
   ]
  },
  {
   "cell_type": "code",
   "execution_count": 20,
   "metadata": {},
   "outputs": [],
   "source": [
    "class Arguments():\n",
    "    def __init__(self):\n",
    "        self.batch_size = 64\n",
    "        self.test_batch_size = 200\n",
    "        self.epochs = 10\n",
    "        self.lr = 0.001 # learning rate\n",
    "        self.log_interval = 100\n",
    "\n",
    "args = Arguments()"
   ]
  },
  {
   "cell_type": "markdown",
   "metadata": {},
   "source": [
    "Here, we assume that the server will have some data to get a first instance model generated."
   ]
  },
  {
   "cell_type": "code",
   "execution_count": 21,
   "metadata": {},
   "outputs": [],
   "source": [
    "train_loader = torch.utils.data.DataLoader(\n",
    "    datasets.MNIST('../data', train=True, download=True,\n",
    "                   transform=transforms.Compose([\n",
    "                       transforms.ToTensor(),\n",
    "                       transforms.Normalize((0.1307,), (0.3081,))\n",
    "                   ])),\n",
    "    batch_size=args.batch_size, shuffle=True)"
   ]
  },
  {
   "cell_type": "code",
   "execution_count": 22,
   "metadata": {},
   "outputs": [],
   "source": [
    "test_loader = torch.utils.data.DataLoader(\n",
    "    datasets.MNIST('../data', train=False,\n",
    "                   transform=transforms.Compose([\n",
    "                       transforms.ToTensor(),\n",
    "                       transforms.Normalize((0.1307,), (0.3081,))\n",
    "                   ])),\n",
    "    batch_size=args.test_batch_size, shuffle=True)\n",
    "\n",
    "# Convert to integers and privately share the dataset\n",
    "private_test_loader = []\n",
    "for data, target in test_loader:\n",
    "    private_test_loader.append((\n",
    "        data.fix_prec().share(alice, bob, crypto_provider=crypto_provider),\n",
    "        target.fix_prec().share(alice, bob, crypto_provider=crypto_provider)\n",
    "    ))"
   ]
  },
  {
   "cell_type": "code",
   "execution_count": 23,
   "metadata": {},
   "outputs": [],
   "source": [
    "class Net(nn.Module):\n",
    "    def __init__(self):\n",
    "        super(Net, self).__init__()\n",
    "        self.fc1 = nn.Linear(784, 500)\n",
    "        self.fc2 = nn.Linear(500, 10)\n",
    "\n",
    "    def forward(self, x):\n",
    "        x = x.view(-1, 784)\n",
    "        x = self.fc1(x)\n",
    "        x = F.relu(x)\n",
    "        x = self.fc2(x)\n",
    "        return x"
   ]
  },
  {
   "cell_type": "code",
   "execution_count": 24,
   "metadata": {},
   "outputs": [],
   "source": [
    "def train(args, model, train_loader, optimizer, epoch):\n",
    "    model.train()\n",
    "    for batch_idx, (data, target) in enumerate(train_loader):\n",
    "        optimizer.zero_grad()\n",
    "        output = model(data)\n",
    "        output = F.log_softmax(output, dim=1)\n",
    "        loss = F.nll_loss(output, target)\n",
    "        loss.backward()\n",
    "        optimizer.step()\n",
    "        if batch_idx % args.log_interval == 0:\n",
    "            print('Train Epoch: {} [{}/{} ({:.0f}%)]'.format(\n",
    "                epoch, batch_idx * args.batch_size, len(train_loader) * args.batch_size,\n",
    "                100. * batch_idx / len(train_loader)))"
   ]
  },
  {
   "cell_type": "code",
   "execution_count": 25,
   "metadata": {},
   "outputs": [
    {
     "name": "stdout",
     "output_type": "stream",
     "text": [
      "Train Epoch: 1 [0/60032 (0%)]\n",
      "Train Epoch: 1 [6400/60032 (11%)]\n",
      "Train Epoch: 1 [12800/60032 (21%)]\n",
      "Train Epoch: 1 [19200/60032 (32%)]\n",
      "Train Epoch: 1 [25600/60032 (43%)]\n",
      "Train Epoch: 1 [32000/60032 (53%)]\n",
      "Train Epoch: 1 [38400/60032 (64%)]\n",
      "Train Epoch: 1 [44800/60032 (75%)]\n",
      "Train Epoch: 1 [51200/60032 (85%)]\n",
      "Train Epoch: 1 [57600/60032 (96%)]\n",
      "Train Epoch: 2 [0/60032 (0%)]\n",
      "Train Epoch: 2 [6400/60032 (11%)]\n",
      "Train Epoch: 2 [12800/60032 (21%)]\n",
      "Train Epoch: 2 [19200/60032 (32%)]\n",
      "Train Epoch: 2 [25600/60032 (43%)]\n",
      "Train Epoch: 2 [32000/60032 (53%)]\n",
      "Train Epoch: 2 [38400/60032 (64%)]\n",
      "Train Epoch: 2 [44800/60032 (75%)]\n",
      "Train Epoch: 2 [51200/60032 (85%)]\n",
      "Train Epoch: 2 [57600/60032 (96%)]\n",
      "Train Epoch: 3 [0/60032 (0%)]\n",
      "Train Epoch: 3 [6400/60032 (11%)]\n",
      "Train Epoch: 3 [12800/60032 (21%)]\n",
      "Train Epoch: 3 [19200/60032 (32%)]\n",
      "Train Epoch: 3 [25600/60032 (43%)]\n",
      "Train Epoch: 3 [32000/60032 (53%)]\n",
      "Train Epoch: 3 [38400/60032 (64%)]\n",
      "Train Epoch: 3 [44800/60032 (75%)]\n",
      "Train Epoch: 3 [51200/60032 (85%)]\n",
      "Train Epoch: 3 [57600/60032 (96%)]\n",
      "Train Epoch: 4 [0/60032 (0%)]\n",
      "Train Epoch: 4 [6400/60032 (11%)]\n",
      "Train Epoch: 4 [12800/60032 (21%)]\n",
      "Train Epoch: 4 [19200/60032 (32%)]\n",
      "Train Epoch: 4 [25600/60032 (43%)]\n",
      "Train Epoch: 4 [32000/60032 (53%)]\n",
      "Train Epoch: 4 [38400/60032 (64%)]\n",
      "Train Epoch: 4 [44800/60032 (75%)]\n",
      "Train Epoch: 4 [51200/60032 (85%)]\n",
      "Train Epoch: 4 [57600/60032 (96%)]\n",
      "Train Epoch: 5 [0/60032 (0%)]\n",
      "Train Epoch: 5 [6400/60032 (11%)]\n",
      "Train Epoch: 5 [12800/60032 (21%)]\n",
      "Train Epoch: 5 [19200/60032 (32%)]\n",
      "Train Epoch: 5 [25600/60032 (43%)]\n",
      "Train Epoch: 5 [32000/60032 (53%)]\n",
      "Train Epoch: 5 [38400/60032 (64%)]\n",
      "Train Epoch: 5 [44800/60032 (75%)]\n",
      "Train Epoch: 5 [51200/60032 (85%)]\n",
      "Train Epoch: 5 [57600/60032 (96%)]\n",
      "Train Epoch: 6 [0/60032 (0%)]\n",
      "Train Epoch: 6 [6400/60032 (11%)]\n",
      "Train Epoch: 6 [12800/60032 (21%)]\n",
      "Train Epoch: 6 [19200/60032 (32%)]\n",
      "Train Epoch: 6 [25600/60032 (43%)]\n",
      "Train Epoch: 6 [32000/60032 (53%)]\n",
      "Train Epoch: 6 [38400/60032 (64%)]\n",
      "Train Epoch: 6 [44800/60032 (75%)]\n",
      "Train Epoch: 6 [51200/60032 (85%)]\n",
      "Train Epoch: 6 [57600/60032 (96%)]\n",
      "Train Epoch: 7 [0/60032 (0%)]\n",
      "Train Epoch: 7 [6400/60032 (11%)]\n",
      "Train Epoch: 7 [12800/60032 (21%)]\n",
      "Train Epoch: 7 [19200/60032 (32%)]\n",
      "Train Epoch: 7 [25600/60032 (43%)]\n",
      "Train Epoch: 7 [32000/60032 (53%)]\n",
      "Train Epoch: 7 [38400/60032 (64%)]\n",
      "Train Epoch: 7 [44800/60032 (75%)]\n",
      "Train Epoch: 7 [51200/60032 (85%)]\n",
      "Train Epoch: 7 [57600/60032 (96%)]\n",
      "Train Epoch: 8 [0/60032 (0%)]\n",
      "Train Epoch: 8 [6400/60032 (11%)]\n",
      "Train Epoch: 8 [12800/60032 (21%)]\n",
      "Train Epoch: 8 [19200/60032 (32%)]\n",
      "Train Epoch: 8 [25600/60032 (43%)]\n",
      "Train Epoch: 8 [32000/60032 (53%)]\n",
      "Train Epoch: 8 [38400/60032 (64%)]\n",
      "Train Epoch: 8 [44800/60032 (75%)]\n",
      "Train Epoch: 8 [51200/60032 (85%)]\n",
      "Train Epoch: 8 [57600/60032 (96%)]\n",
      "Train Epoch: 9 [0/60032 (0%)]\n",
      "Train Epoch: 9 [6400/60032 (11%)]\n",
      "Train Epoch: 9 [12800/60032 (21%)]\n",
      "Train Epoch: 9 [19200/60032 (32%)]\n",
      "Train Epoch: 9 [25600/60032 (43%)]\n",
      "Train Epoch: 9 [32000/60032 (53%)]\n",
      "Train Epoch: 9 [38400/60032 (64%)]\n",
      "Train Epoch: 9 [44800/60032 (75%)]\n",
      "Train Epoch: 9 [51200/60032 (85%)]\n",
      "Train Epoch: 9 [57600/60032 (96%)]\n",
      "Train Epoch: 10 [0/60032 (0%)]\n",
      "Train Epoch: 10 [6400/60032 (11%)]\n",
      "Train Epoch: 10 [12800/60032 (21%)]\n",
      "Train Epoch: 10 [19200/60032 (32%)]\n",
      "Train Epoch: 10 [25600/60032 (43%)]\n",
      "Train Epoch: 10 [32000/60032 (53%)]\n",
      "Train Epoch: 10 [38400/60032 (64%)]\n",
      "Train Epoch: 10 [44800/60032 (75%)]\n",
      "Train Epoch: 10 [51200/60032 (85%)]\n",
      "Train Epoch: 10 [57600/60032 (96%)]\n"
     ]
    }
   ],
   "source": [
    "model = Net()\n",
    "optimizer = torch.optim.Adam(model.parameters(), lr=args.lr)\n",
    "\n",
    "for epoch in range(1, args.epochs + 1):\n",
    "    train(args, model, train_loader, optimizer, epoch)"
   ]
  },
  {
   "cell_type": "code",
   "execution_count": 26,
   "metadata": {},
   "outputs": [
    {
     "data": {
      "text/plain": [
       "Net(\n",
       "  (fc1): Linear(in_features=784, out_features=500, bias=True)\n",
       "  (fc2): Linear(in_features=500, out_features=10, bias=True)\n",
       ")"
      ]
     },
     "execution_count": 26,
     "metadata": {},
     "output_type": "execute_result"
    }
   ],
   "source": [
    "model.fix_precision().share(alice, bob, crypto_provider=crypto_provider)"
   ]
  },
  {
   "cell_type": "code",
   "execution_count": 29,
   "metadata": {},
   "outputs": [],
   "source": [
    "def test(args, model, test_loader):\n",
    "    model.eval()\n",
    "    n_correct_priv = 0\n",
    "    n_total = 0\n",
    "    with torch.no_grad():\n",
    "        for data, target in test_loader:\n",
    "            output = model(data)\n",
    "            pred = output.argmax(dim=1) \n",
    "            n_correct_priv += pred.eq(target.view_as(pred)).sum()\n",
    "            n_total += args.test_batch_size\n",
    "            \n",
    "            n_correct = n_correct_priv.copy()\n",
    "            n_c1 = n_correct.get()\n",
    "            n_c2 = n_c1.float_precision().long().item()\n",
    "    \n",
    "            print('Test set: Accuracy: {}/{} ({:.0f}%)'.format(\n",
    "                n_correct, n_total,\n",
    "                100. * n_correct / n_total))"
   ]
  },
  {
   "cell_type": "code",
   "execution_count": 30,
   "metadata": {},
   "outputs": [
    {
     "ename": "AttributeError",
     "evalue": "'int' object has no attribute 'is_wrapper'",
     "output_type": "error",
     "traceback": [
      "\u001b[1;31m---------------------------------------------------------------------------\u001b[0m",
      "\u001b[1;31mAttributeError\u001b[0m                            Traceback (most recent call last)",
      "\u001b[1;32m<ipython-input-30-d96a4baef877>\u001b[0m in \u001b[0;36m<module>\u001b[1;34m\u001b[0m\n\u001b[1;32m----> 1\u001b[1;33m \u001b[0mtest\u001b[0m\u001b[1;33m(\u001b[0m\u001b[0margs\u001b[0m\u001b[1;33m,\u001b[0m \u001b[0mmodel\u001b[0m\u001b[1;33m,\u001b[0m \u001b[0mprivate_test_loader\u001b[0m\u001b[1;33m)\u001b[0m\u001b[1;33m\u001b[0m\u001b[1;33m\u001b[0m\u001b[0m\n\u001b[0m",
      "\u001b[1;32m<ipython-input-29-3d36831386db>\u001b[0m in \u001b[0;36mtest\u001b[1;34m(args, model, test_loader)\u001b[0m\n\u001b[0;32m     10\u001b[0m             \u001b[0mn_total\u001b[0m \u001b[1;33m+=\u001b[0m \u001b[0margs\u001b[0m\u001b[1;33m.\u001b[0m\u001b[0mtest_batch_size\u001b[0m\u001b[1;33m\u001b[0m\u001b[1;33m\u001b[0m\u001b[0m\n\u001b[0;32m     11\u001b[0m \u001b[1;33m\u001b[0m\u001b[0m\n\u001b[1;32m---> 12\u001b[1;33m             \u001b[0mn_correct\u001b[0m \u001b[1;33m=\u001b[0m \u001b[0mn_correct_priv\u001b[0m\u001b[1;33m.\u001b[0m\u001b[0mcopy\u001b[0m\u001b[1;33m(\u001b[0m\u001b[1;33m)\u001b[0m\u001b[1;33m\u001b[0m\u001b[1;33m\u001b[0m\u001b[0m\n\u001b[0m\u001b[0;32m     13\u001b[0m             \u001b[0mn_c1\u001b[0m \u001b[1;33m=\u001b[0m \u001b[0mn_correct\u001b[0m\u001b[1;33m.\u001b[0m\u001b[0mget\u001b[0m\u001b[1;33m(\u001b[0m\u001b[1;33m)\u001b[0m\u001b[1;33m\u001b[0m\u001b[1;33m\u001b[0m\u001b[0m\n\u001b[0;32m     14\u001b[0m             \u001b[0mn_c2\u001b[0m \u001b[1;33m=\u001b[0m \u001b[0mn_c1\u001b[0m\u001b[1;33m.\u001b[0m\u001b[0mfloat_precision\u001b[0m\u001b[1;33m(\u001b[0m\u001b[1;33m)\u001b[0m\u001b[1;33m.\u001b[0m\u001b[0mlong\u001b[0m\u001b[1;33m(\u001b[0m\u001b[1;33m)\u001b[0m\u001b[1;33m.\u001b[0m\u001b[0mitem\u001b[0m\u001b[1;33m(\u001b[0m\u001b[1;33m)\u001b[0m\u001b[1;33m\u001b[0m\u001b[1;33m\u001b[0m\u001b[0m\n",
      "\u001b[1;32mD:\\Anaconda\\envs\\pysyft\\lib\\site-packages\\syft\\frameworks\\torch\\tensors\\interpreters\\native.py\u001b[0m in \u001b[0;36mcopy\u001b[1;34m(self)\u001b[0m\n\u001b[0;32m    159\u001b[0m \u001b[1;33m\u001b[0m\u001b[0m\n\u001b[0;32m    160\u001b[0m     \u001b[1;32mdef\u001b[0m \u001b[0mcopy\u001b[0m\u001b[1;33m(\u001b[0m\u001b[0mself\u001b[0m\u001b[1;33m)\u001b[0m\u001b[1;33m:\u001b[0m\u001b[1;33m\u001b[0m\u001b[1;33m\u001b[0m\u001b[0m\n\u001b[1;32m--> 161\u001b[1;33m         \u001b[1;32mreturn\u001b[0m \u001b[0mself\u001b[0m \u001b[1;33m+\u001b[0m \u001b[1;36m0\u001b[0m\u001b[1;33m\u001b[0m\u001b[1;33m\u001b[0m\u001b[0m\n\u001b[0m\u001b[0;32m    162\u001b[0m \u001b[1;33m\u001b[0m\u001b[0m\n\u001b[0;32m    163\u001b[0m     \u001b[1;33m@\u001b[0m\u001b[0mclassmethod\u001b[0m\u001b[1;33m\u001b[0m\u001b[1;33m\u001b[0m\u001b[0m\n",
      "\u001b[1;32mD:\\Anaconda\\envs\\pysyft\\lib\\site-packages\\syft\\frameworks\\torch\\hook\\hook.py\u001b[0m in \u001b[0;36moverloaded_native_method\u001b[1;34m(self, *args, **kwargs)\u001b[0m\n\u001b[0;32m    663\u001b[0m                 \u001b[1;31m# Send the new command to the appropriate class and get the response\u001b[0m\u001b[1;33m\u001b[0m\u001b[1;33m\u001b[0m\u001b[1;33m\u001b[0m\u001b[0m\n\u001b[0;32m    664\u001b[0m                 \u001b[0mmethod\u001b[0m \u001b[1;33m=\u001b[0m \u001b[0mgetattr\u001b[0m\u001b[1;33m(\u001b[0m\u001b[0mnew_self\u001b[0m\u001b[1;33m,\u001b[0m \u001b[0mmethod_name\u001b[0m\u001b[1;33m)\u001b[0m\u001b[1;33m\u001b[0m\u001b[1;33m\u001b[0m\u001b[0m\n\u001b[1;32m--> 665\u001b[1;33m                 \u001b[0mresponse\u001b[0m \u001b[1;33m=\u001b[0m \u001b[0mmethod\u001b[0m\u001b[1;33m(\u001b[0m\u001b[1;33m*\u001b[0m\u001b[0mnew_args\u001b[0m\u001b[1;33m,\u001b[0m \u001b[1;33m**\u001b[0m\u001b[0mnew_kwargs\u001b[0m\u001b[1;33m)\u001b[0m\u001b[1;33m\u001b[0m\u001b[1;33m\u001b[0m\u001b[0m\n\u001b[0m\u001b[0;32m    666\u001b[0m \u001b[1;33m\u001b[0m\u001b[0m\n\u001b[0;32m    667\u001b[0m                 \u001b[1;31m# For inplace methods, just directly return self\u001b[0m\u001b[1;33m\u001b[0m\u001b[1;33m\u001b[0m\u001b[1;33m\u001b[0m\u001b[0m\n",
      "\u001b[1;32mD:\\Anaconda\\envs\\pysyft\\lib\\site-packages\\syft\\frameworks\\torch\\overload_torch.py\u001b[0m in \u001b[0;36mhook_args\u001b[1;34m(self, *args, **kwargs)\u001b[0m\n\u001b[0;32m     25\u001b[0m \u001b[1;33m\u001b[0m\u001b[0m\n\u001b[0;32m     26\u001b[0m             \u001b[1;31m# Send it to the appropriate class and get the response\u001b[0m\u001b[1;33m\u001b[0m\u001b[1;33m\u001b[0m\u001b[1;33m\u001b[0m\u001b[0m\n\u001b[1;32m---> 27\u001b[1;33m             \u001b[0mresponse\u001b[0m \u001b[1;33m=\u001b[0m \u001b[0mattr\u001b[0m\u001b[1;33m(\u001b[0m\u001b[0mself\u001b[0m\u001b[1;33m,\u001b[0m \u001b[0mnew_self\u001b[0m\u001b[1;33m,\u001b[0m \u001b[1;33m*\u001b[0m\u001b[0mnew_args\u001b[0m\u001b[1;33m,\u001b[0m \u001b[1;33m**\u001b[0m\u001b[0mnew_kwargs\u001b[0m\u001b[1;33m)\u001b[0m\u001b[1;33m\u001b[0m\u001b[1;33m\u001b[0m\u001b[0m\n\u001b[0m\u001b[0;32m     28\u001b[0m \u001b[1;33m\u001b[0m\u001b[0m\n\u001b[0;32m     29\u001b[0m             \u001b[1;31m# Put back SyftTensor on the tensors found in the response\u001b[0m\u001b[1;33m\u001b[0m\u001b[1;33m\u001b[0m\u001b[1;33m\u001b[0m\u001b[0m\n",
      "\u001b[1;32mD:\\Anaconda\\envs\\pysyft\\lib\\site-packages\\syft\\frameworks\\torch\\tensors\\interpreters\\precision.py\u001b[0m in \u001b[0;36madd\u001b[1;34m(self, _self, other)\u001b[0m\n\u001b[0;32m     97\u001b[0m         \"\"\"Add two fixed precision tensors together.\n\u001b[0;32m     98\u001b[0m         \"\"\"\n\u001b[1;32m---> 99\u001b[1;33m         \u001b[1;32mif\u001b[0m \u001b[0m_self\u001b[0m\u001b[1;33m.\u001b[0m\u001b[0mis_wrapper\u001b[0m \u001b[1;32mand\u001b[0m \u001b[1;32mnot\u001b[0m \u001b[0mother\u001b[0m\u001b[1;33m.\u001b[0m\u001b[0mis_wrapper\u001b[0m\u001b[1;33m:\u001b[0m\u001b[1;33m\u001b[0m\u001b[1;33m\u001b[0m\u001b[0m\n\u001b[0m\u001b[0;32m    100\u001b[0m             \u001b[1;31m# If we try to add a FPT>(wrap)>AST and a FPT>torch.tensor,\u001b[0m\u001b[1;33m\u001b[0m\u001b[1;33m\u001b[0m\u001b[1;33m\u001b[0m\u001b[0m\n\u001b[0;32m    101\u001b[0m             \u001b[1;31m# we want to perform AST + torch.tensor\u001b[0m\u001b[1;33m\u001b[0m\u001b[1;33m\u001b[0m\u001b[1;33m\u001b[0m\u001b[0m\n",
      "\u001b[1;31mAttributeError\u001b[0m: 'int' object has no attribute 'is_wrapper'"
     ]
    }
   ],
   "source": [
    "test(args, model, private_test_loader)\n"
   ]
  },
  {
   "cell_type": "code",
   "execution_count": null,
   "metadata": {},
   "outputs": [],
   "source": []
  }
 ],
 "metadata": {
  "kernelspec": {
   "display_name": "Python 3",
   "language": "python",
   "name": "python3"
  },
  "language_info": {
   "codemirror_mode": {
    "name": "ipython",
    "version": 3
   },
   "file_extension": ".py",
   "mimetype": "text/x-python",
   "name": "python",
   "nbconvert_exporter": "python",
   "pygments_lexer": "ipython3",
   "version": "3.7.3"
  }
 },
 "nbformat": 4,
 "nbformat_minor": 2
}
