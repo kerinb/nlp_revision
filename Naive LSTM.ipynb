{
 "cells": [
  {
   "cell_type": "markdown",
   "metadata": {},
   "source": [
    "# Naive Long Short Term Memory Unit Implementation\n",
    "This Notebook contains the code written to implement the NaiveLSTM unit for NLP/DL text applications."
   ]
  },
  {
   "cell_type": "code",
   "execution_count": 17,
   "metadata": {},
   "outputs": [],
   "source": [
    "import numpy as np\n",
    "import torch\n",
    "import torch.nn as nn\n",
    "from torch.nn import Parameter\n",
    "import torch.optim as optim\n",
    "\n",
    "from typing import *\n",
    "from pathlib import Path\n",
    "\n",
    "from enum import IntEnum\n",
    "\n",
    "class Dim(IntEnum):\n",
    "    batch = 0\n",
    "    seq = 1\n",
    "    feature = 2\n",
    "    \n",
    "class NaiveLSTM(nn.Module):\n",
    "    def __init__(self, input_sz: int, hidden_sz: int):\n",
    "        super().__init__()\n",
    "        self.input_size = input_sz\n",
    "        self.hidden_size = hidden_sz\n",
    "        # input gate\n",
    "        self.W_ii = Parameter(torch.Tensor(input_sz, hidden_sz))\n",
    "        self.W_hi = Parameter(torch.Tensor(hidden_sz, hidden_sz))\n",
    "        self.b_i = Parameter(torch.Tensor(hidden_sz))\n",
    "        # forget gate\n",
    "        self.W_if = Parameter(torch.Tensor(input_sz, hidden_sz))\n",
    "        self.W_hf = Parameter(torch.Tensor(hidden_sz, hidden_sz))\n",
    "        self.b_f = Parameter(torch.Tensor(hidden_sz))\n",
    "        # ???\n",
    "        self.W_ig = Parameter(torch.Tensor(input_sz, hidden_sz))\n",
    "        self.W_hg = Parameter(torch.Tensor(hidden_sz, hidden_sz))\n",
    "        self.b_g = Parameter(torch.Tensor(hidden_sz))\n",
    "        # output gate\n",
    "        self.W_io = Parameter(torch.Tensor(input_sz, hidden_sz))\n",
    "        self.W_ho = Parameter(torch.Tensor(hidden_sz, hidden_sz))\n",
    "        self.b_o = Parameter(torch.Tensor(hidden_sz))\n",
    "        \n",
    "        self.init_weights()\n",
    "    \n",
    "    \n",
    "    def init_weights(self):\n",
    "        for p in self.parameters():\n",
    "            if p.data.ndimension() >= 2:\n",
    "                nn.init.xavier_uniform_(p.data)\n",
    "            else:\n",
    "                nn.init.zeros_(p.data)\n",
    "        \n",
    "    def forward(self, x: torch.Tensor, \n",
    "                init_states: Optional[Tuple[torch.Tensor, torch.Tensor]]=None\n",
    "               ) -> Tuple[torch.Tensor, Tuple[torch.Tensor, torch.Tensor]]:\n",
    "        \"\"\"Assumes x is of shape (batch, sequence, feature)\"\"\"\n",
    "        bs, seq_sz, _ = x.size()\n",
    "        hidden_seq = []\n",
    "        if init_states is None:\n",
    "            h_t, c_t = torch.zeros(self.hidden_size).to(x.device), torch.zeros(self.hidden_size).to(x.device)\n",
    "        else:\n",
    "            h_t, c_t = init_states\n",
    "        for t in range(seq_sz): # iterate over the time steps\n",
    "            x_t = x[:, t, :]\n",
    "            i_t = torch.sigmoid(x_t @ self.W_ii + h_t @ self.W_hi + self.b_i)\n",
    "            f_t = torch.sigmoid(x_t @ self.W_if + h_t @ self.W_hf + self.b_f)\n",
    "            g_t = torch.tanh(x_t @ self.W_ig + h_t @ self.W_hg + self.b_g)\n",
    "            o_t = torch.sigmoid(x_t @ self.W_io + h_t @ self.W_ho + self.b_o)\n",
    "            c_t = f_t * c_t + i_t * g_t\n",
    "            h_t = o_t * torch.tanh(c_t)\n",
    "            hidden_seq.append(h_t.unsqueeze(Dim.batch))\n",
    "        hidden_seq = torch.cat(hidden_seq, dim=Dim.batch)\n",
    "        # reshape from shape (sequence, batch, feature) to (batch, sequence, feature)\n",
    "        hidden_seq = hidden_seq.transpose(Dim.batch, Dim.seq).contiguous()\n",
    "        return hidden_seq, (h_t, c_t)\n",
    "    \n",
    "# [1] http://proceedings.mlr.press/v9/glorot10a/glorot10a.pdf"
   ]
  },
  {
   "cell_type": "code",
   "execution_count": 18,
   "metadata": {},
   "outputs": [],
   "source": [
    "bs, seq_len, feat_sz, hidden_sz = 5, 10, 32, 16\n",
    "arr = torch.randn(bs, seq_len, feat_sz)\n",
    "lstm = NaiveLSTM(feat_sz, hidden_sz)"
   ]
  },
  {
   "cell_type": "code",
   "execution_count": 19,
   "metadata": {},
   "outputs": [],
   "source": [
    "hs, (hn, cn) = lstm(arr)"
   ]
  },
  {
   "cell_type": "code",
   "execution_count": 20,
   "metadata": {},
   "outputs": [
    {
     "data": {
      "text/plain": [
       "torch.Size([5, 10, 16])"
      ]
     },
     "execution_count": 20,
     "metadata": {},
     "output_type": "execute_result"
    }
   ],
   "source": [
    "hs.shape"
   ]
  },
  {
   "cell_type": "code",
   "execution_count": 21,
   "metadata": {},
   "outputs": [
    {
     "name": "stderr",
     "output_type": "stream",
     "text": [
      "  % Total    % Received % Xferd  Average Speed   Time    Time     Time  Current\n",
      "                                 Dload  Upload   Total   Spent    Left  Speed\n",
      "\n",
      "  0     0    0     0    0     0      0      0 --:--:-- --:--:-- --:--:--     0\n",
      "  0     0    0     0    0     0      0      0 --:--:-- --:--:-- --:--:--     0\n",
      "  1 6040k    1  103k    0     0  66259      0  0:01:33  0:00:01  0:01:32 66259\n",
      " 14 6040k   14  892k    0     0   351k      0  0:00:17  0:00:02  0:00:15  351k\n",
      " 66 6040k   66 4021k    0     0  1119k      0  0:00:05  0:00:03  0:00:02 1119k\n",
      "100 6040k  100 6040k    0     0  1674k      0  0:00:03  0:00:03 --:--:-- 1674k\n"
     ]
    }
   ],
   "source": [
    "!curl http://www.sls.hawaii.edu/bley-vroman/brown.txt -o {\"brown.txt\"}"
   ]
  },
  {
   "cell_type": "code",
   "execution_count": 22,
   "metadata": {},
   "outputs": [
    {
     "name": "stdout",
     "output_type": "stream",
     "text": [
      "Collecting allennlp\n",
      "  Downloading https://files.pythonhosted.org/packages/3f/bc/e30325523363215c503171822f09436adcfbc74f426ad62496276f1ac4c0/allennlp-0.8.5-py3-none-any.whl (7.4MB)\n",
      "Requirement already satisfied: pytz>=2017.3 in d:\\anaconda\\envs\\pysyft\\lib\\site-packages (from allennlp) (2019.1)\n",
      "Collecting tensorboardX>=1.2 (from allennlp)\n",
      "  Downloading https://files.pythonhosted.org/packages/c3/12/dcaf67e1312475b26db9e45e7bb6f32b540671a9ee120b3a72d9e09bc517/tensorboardX-1.8-py2.py3-none-any.whl (216kB)\n",
      "Requirement already satisfied: pytest in d:\\anaconda\\envs\\pysyft\\lib\\site-packages (from allennlp) (5.1.2)\n",
      "Collecting numpydoc>=0.8.0 (from allennlp)\n",
      "  Downloading https://files.pythonhosted.org/packages/6a/f3/7cfe4c616e4b9fe05540256cc9c6661c052c8a4cec2915732793b36e1843/numpydoc-0.9.1.tar.gz\n",
      "Requirement already satisfied: numpy in d:\\anaconda\\envs\\pysyft\\lib\\site-packages (from allennlp) (1.17.0)\n",
      "Requirement already satisfied: tqdm>=4.19 in d:\\anaconda\\envs\\pysyft\\lib\\site-packages (from allennlp) (4.35.0)\n",
      "Requirement already satisfied: nltk in d:\\anaconda\\envs\\pysyft\\lib\\site-packages (from allennlp) (3.4.5)\n",
      "Requirement already satisfied: h5py in d:\\anaconda\\envs\\pysyft\\lib\\site-packages (from allennlp) (2.9.0)\n",
      "Collecting flaky (from allennlp)\n",
      "  Downloading https://files.pythonhosted.org/packages/fe/12/0f169abf1aa07c7edef4855cca53703d2e6b7ecbded7829588ac7e7e3424/flaky-3.6.1-py2.py3-none-any.whl\n",
      "Collecting sqlparse>=0.2.4 (from allennlp)\n",
      "  Downloading https://files.pythonhosted.org/packages/ef/53/900f7d2a54557c6a37886585a91336520e5539e3ae2423ff1102daf4f3a7/sqlparse-0.3.0-py2.py3-none-any.whl\n",
      "Requirement already satisfied: spacy<2.2,>=2.1.0 in d:\\anaconda\\envs\\pysyft\\lib\\site-packages (from allennlp) (2.1.8)\n",
      "Collecting flask-cors>=3.0.7 (from allennlp)\n",
      "  Downloading https://files.pythonhosted.org/packages/78/38/e68b11daa5d613e3a91e4bf3da76c94ac9ee0d9cd515af9c1ab80d36f709/Flask_Cors-3.0.8-py2.py3-none-any.whl\n",
      "Collecting overrides (from allennlp)\n",
      "  Downloading https://files.pythonhosted.org/packages/de/55/3100c6d14c1ed177492fcf8f07c4a7d2d6c996c0a7fc6a9a0a41308e7eec/overrides-1.9.tar.gz\n",
      "Collecting parsimonious>=0.8.0 (from allennlp)\n",
      "  Downloading https://files.pythonhosted.org/packages/02/fc/067a3f89869a41009e1a7cdfb14725f8ddd246f30f63c645e8ef8a1c56f4/parsimonious-0.8.1.tar.gz (45kB)\n",
      "Collecting unidecode (from allennlp)\n",
      "  Downloading https://files.pythonhosted.org/packages/d0/42/d9edfed04228bacea2d824904cae367ee9efd05e6cce7ceaaedd0b0ad964/Unidecode-1.1.1-py2.py3-none-any.whl (238kB)\n",
      "Requirement already satisfied: scikit-learn in d:\\anaconda\\envs\\pysyft\\lib\\site-packages (from allennlp) (0.21.2)\n",
      "Collecting word2number>=1.1 (from allennlp)\n",
      "  Downloading https://files.pythonhosted.org/packages/4a/29/a31940c848521f0725f0df6b25dca8917f13a2025b0e8fcbe5d0457e45e6/word2number-1.1.zip\n",
      "Requirement already satisfied: flask>=1.0.2 in d:\\anaconda\\envs\\pysyft\\lib\\site-packages (from allennlp) (1.0.3)\n",
      "Collecting pytorch-pretrained-bert>=0.6.0 (from allennlp)\n",
      "  Downloading https://files.pythonhosted.org/packages/d7/e0/c08d5553b89973d9a240605b9c12404bcf8227590de62bae27acbcfe076b/pytorch_pretrained_bert-0.6.2-py3-none-any.whl (123kB)\n",
      "Collecting responses>=0.7 (from allennlp)\n",
      "  Downloading https://files.pythonhosted.org/packages/d1/5a/b887e89925f1de7890ef298a74438371ed4ed29b33def9e6d02dc6036fd8/responses-0.10.6-py2.py3-none-any.whl\n",
      "Requirement already satisfied: matplotlib>=2.2.3 in d:\\anaconda\\envs\\pysyft\\lib\\site-packages (from allennlp) (3.1.0)\n",
      "Requirement already satisfied: requests>=2.18 in d:\\anaconda\\envs\\pysyft\\lib\\site-packages (from allennlp) (2.22.0)\n",
      "Collecting ftfy (from allennlp)\n",
      "  Downloading https://files.pythonhosted.org/packages/75/ca/2d9a5030eaf1bcd925dab392762b9709a7ad4bd486a90599d93cd79cb188/ftfy-5.6.tar.gz (58kB)\n",
      "Collecting gevent>=1.3.6 (from allennlp)\n",
      "  Downloading https://files.pythonhosted.org/packages/8a/dd/417aad4e69fa7f8882534b778c46cb28eb0421ffa1e924ec3b4efcfcc81f/gevent-1.4.0-cp37-cp37m-win_amd64.whl (3.0MB)\n",
      "Collecting conllu==1.3.1 (from allennlp)\n",
      "  Downloading https://files.pythonhosted.org/packages/ae/54/b0ae1199f3d01666821b028cd967f7c0ac527ab162af433d3da69242cea2/conllu-1.3.1-py2.py3-none-any.whl\n",
      "Collecting jsonpickle (from allennlp)\n",
      "  Downloading https://files.pythonhosted.org/packages/07/07/c157520a3ebd166c8c24c6ae0ecae7c3968eb4653ff0e5af369bb82f004d/jsonpickle-1.2-py2.py3-none-any.whl\n",
      "Requirement already satisfied: boto3 in d:\\anaconda\\envs\\pysyft\\lib\\site-packages (from allennlp) (1.9.225)\n",
      "Collecting pytorch-transformers==1.1.0 (from allennlp)\n",
      "  Downloading https://files.pythonhosted.org/packages/50/89/ad0d6bb932d0a51793eaabcf1617a36ff530dc9ab9e38f765a35dc293306/pytorch_transformers-1.1.0-py3-none-any.whl (158kB)\n",
      "Requirement already satisfied: torch<1.2,>=0.4.1 in d:\\anaconda\\envs\\pysyft\\lib\\site-packages (from allennlp) (1.1.0)\n",
      "Collecting editdistance (from allennlp)\n",
      "  Downloading https://files.pythonhosted.org/packages/5a/21/3178b32699c94aff68239372e30e01b2707f6b5438d8732d4356162fa3b1/editdistance-0.5.3-cp37-cp37m-win_amd64.whl\n",
      "Requirement already satisfied: scipy in d:\\anaconda\\envs\\pysyft\\lib\\site-packages (from allennlp) (1.3.0)\n",
      "Requirement already satisfied: six in d:\\anaconda\\envs\\pysyft\\lib\\site-packages (from tensorboardX>=1.2->allennlp) (1.12.0)\n",
      "Requirement already satisfied: protobuf>=3.2.0 in d:\\anaconda\\envs\\pysyft\\lib\\site-packages (from tensorboardX>=1.2->allennlp) (3.8.0)\n",
      "Requirement already satisfied: pluggy<1.0,>=0.12 in d:\\anaconda\\envs\\pysyft\\lib\\site-packages (from pytest->allennlp) (0.12.0)\n",
      "Requirement already satisfied: packaging in d:\\anaconda\\envs\\pysyft\\lib\\site-packages (from pytest->allennlp) (19.1)\n",
      "Requirement already satisfied: colorama; sys_platform == \"win32\" in d:\\anaconda\\envs\\pysyft\\lib\\site-packages (from pytest->allennlp) (0.4.1)\n",
      "Requirement already satisfied: wcwidth in d:\\anaconda\\envs\\pysyft\\lib\\site-packages (from pytest->allennlp) (0.1.7)\n",
      "Requirement already satisfied: attrs>=17.4.0 in d:\\anaconda\\envs\\pysyft\\lib\\site-packages (from pytest->allennlp) (19.1.0)\n",
      "Requirement already satisfied: py>=1.5.0 in d:\\anaconda\\envs\\pysyft\\lib\\site-packages (from pytest->allennlp) (1.8.0)\n",
      "Requirement already satisfied: atomicwrites>=1.0 in d:\\anaconda\\envs\\pysyft\\lib\\site-packages (from pytest->allennlp) (1.3.0)\n",
      "Requirement already satisfied: importlib-metadata>=0.12; python_version < \"3.8\" in d:\\anaconda\\envs\\pysyft\\lib\\site-packages (from pytest->allennlp) (0.20)\n",
      "Requirement already satisfied: more-itertools>=4.0.0 in d:\\anaconda\\envs\\pysyft\\lib\\site-packages (from pytest->allennlp) (7.2.0)\n",
      "Collecting sphinx>=1.6.5 (from numpydoc>=0.8.0->allennlp)\n",
      "  Downloading https://files.pythonhosted.org/packages/8e/4c/95a21788db2e1653e931420f561015a0bbc9bd4660c4520467ab9e733eb2/Sphinx-2.2.0-py3-none-any.whl (3.3MB)\n",
      "Requirement already satisfied: Jinja2>=2.3 in d:\\anaconda\\envs\\pysyft\\lib\\site-packages (from numpydoc>=0.8.0->allennlp) (2.10.1)\n",
      "Requirement already satisfied: blis<0.3.0,>=0.2.2 in d:\\anaconda\\envs\\pysyft\\lib\\site-packages (from spacy<2.2,>=2.1.0->allennlp) (0.2.4)\n",
      "Requirement already satisfied: wasabi<1.1.0,>=0.2.0 in d:\\anaconda\\envs\\pysyft\\lib\\site-packages (from spacy<2.2,>=2.1.0->allennlp) (0.2.2)\n",
      "Requirement already satisfied: cymem<2.1.0,>=2.0.2 in d:\\anaconda\\envs\\pysyft\\lib\\site-packages (from spacy<2.2,>=2.1.0->allennlp) (2.0.2)\n",
      "Requirement already satisfied: preshed<2.1.0,>=2.0.1 in d:\\anaconda\\envs\\pysyft\\lib\\site-packages (from spacy<2.2,>=2.1.0->allennlp) (2.0.1)\n",
      "Requirement already satisfied: thinc<7.1.0,>=7.0.8 in d:\\anaconda\\envs\\pysyft\\lib\\site-packages (from spacy<2.2,>=2.1.0->allennlp) (7.0.8)\n",
      "Requirement already satisfied: murmurhash<1.1.0,>=0.28.0 in d:\\anaconda\\envs\\pysyft\\lib\\site-packages (from spacy<2.2,>=2.1.0->allennlp) (1.0.2)\n",
      "Requirement already satisfied: srsly<1.1.0,>=0.0.6 in d:\\anaconda\\envs\\pysyft\\lib\\site-packages (from spacy<2.2,>=2.1.0->allennlp) (0.1.0)\n",
      "Requirement already satisfied: plac<1.0.0,>=0.9.6 in d:\\anaconda\\envs\\pysyft\\lib\\site-packages (from spacy<2.2,>=2.1.0->allennlp) (0.9.6)\n",
      "Requirement already satisfied: joblib>=0.11 in d:\\anaconda\\envs\\pysyft\\lib\\site-packages (from scikit-learn->allennlp) (0.13.2)\n"
     ]
    },
    {
     "name": "stdout",
     "output_type": "stream",
     "text": [
      "Requirement already satisfied: itsdangerous>=0.24 in d:\\anaconda\\envs\\pysyft\\lib\\site-packages (from flask>=1.0.2->allennlp) (1.1.0)\n",
      "Requirement already satisfied: click>=5.1 in d:\\anaconda\\envs\\pysyft\\lib\\site-packages (from flask>=1.0.2->allennlp) (7.0)\n",
      "Requirement already satisfied: Werkzeug>=0.14 in d:\\anaconda\\envs\\pysyft\\lib\\site-packages (from flask>=1.0.2->allennlp) (0.15.4)\n",
      "Collecting regex (from pytorch-pretrained-bert>=0.6.0->allennlp)\n",
      "  Downloading https://files.pythonhosted.org/packages/f1/2f/f586e982712ffee5681ca149d54480dbb04ff533e9e4638c5e28ae76bdb5/regex-2019.08.19-cp37-none-win_amd64.whl (325kB)\n",
      "Requirement already satisfied: kiwisolver>=1.0.1 in d:\\anaconda\\envs\\pysyft\\lib\\site-packages (from matplotlib>=2.2.3->allennlp) (1.1.0)\n",
      "Requirement already satisfied: python-dateutil>=2.1 in d:\\anaconda\\envs\\pysyft\\lib\\site-packages (from matplotlib>=2.2.3->allennlp) (2.8.0)\n",
      "Requirement already satisfied: cycler>=0.10 in d:\\anaconda\\envs\\pysyft\\lib\\site-packages (from matplotlib>=2.2.3->allennlp) (0.10.0)\n",
      "Requirement already satisfied: pyparsing!=2.0.4,!=2.1.2,!=2.1.6,>=2.0.1 in d:\\anaconda\\envs\\pysyft\\lib\\site-packages (from matplotlib>=2.2.3->allennlp) (2.4.0)\n",
      "Requirement already satisfied: idna<2.9,>=2.5 in d:\\anaconda\\envs\\pysyft\\lib\\site-packages (from requests>=2.18->allennlp) (2.8)\n",
      "Requirement already satisfied: chardet<3.1.0,>=3.0.2 in d:\\anaconda\\envs\\pysyft\\lib\\site-packages (from requests>=2.18->allennlp) (3.0.4)\n",
      "Requirement already satisfied: certifi>=2017.4.17 in d:\\anaconda\\envs\\pysyft\\lib\\site-packages (from requests>=2.18->allennlp) (2019.3.9)\n",
      "Requirement already satisfied: urllib3!=1.25.0,!=1.25.1,<1.26,>=1.21.1 in d:\\anaconda\\envs\\pysyft\\lib\\site-packages (from requests>=2.18->allennlp) (1.25.3)\n",
      "Collecting greenlet>=0.4.14; platform_python_implementation == \"CPython\" (from gevent>=1.3.6->allennlp)\n",
      "  Downloading https://files.pythonhosted.org/packages/90/a3/da8593df08ee2efeb86ccf3201508a1fd2a3749e2735b7cadb7dd00416c6/greenlet-0.4.15-cp37-cp37m-win_amd64.whl\n",
      "Requirement already satisfied: cffi>=1.11.5; sys_platform == \"win32\" and platform_python_implementation == \"CPython\" in d:\\anaconda\\envs\\pysyft\\lib\\site-packages (from gevent>=1.3.6->allennlp) (1.12.3)\n",
      "Requirement already satisfied: jmespath<1.0.0,>=0.7.1 in d:\\anaconda\\envs\\pysyft\\lib\\site-packages (from boto3->allennlp) (0.9.4)\n",
      "Requirement already satisfied: s3transfer<0.3.0,>=0.2.0 in d:\\anaconda\\envs\\pysyft\\lib\\site-packages (from boto3->allennlp) (0.2.1)\n",
      "Requirement already satisfied: botocore<1.13.0,>=1.12.225 in d:\\anaconda\\envs\\pysyft\\lib\\site-packages (from boto3->allennlp) (1.12.225)\n",
      "Collecting sentencepiece (from pytorch-transformers==1.1.0->allennlp)\n",
      "  Downloading https://files.pythonhosted.org/packages/ce/16/17838ebf03ee21daa3b4da0ca5c344bd060bc2963a7567a071cd7008e996/sentencepiece-0.1.83-cp37-cp37m-win_amd64.whl (1.2MB)\n",
      "Requirement already satisfied: setuptools in d:\\anaconda\\envs\\pysyft\\lib\\site-packages (from protobuf>=3.2.0->tensorboardX>=1.2->allennlp) (41.0.1)\n",
      "Requirement already satisfied: zipp>=0.5 in d:\\anaconda\\envs\\pysyft\\lib\\site-packages (from importlib-metadata>=0.12; python_version < \"3.8\"->pytest->allennlp) (0.6.0)\n",
      "Collecting sphinxcontrib-devhelp (from sphinx>=1.6.5->numpydoc>=0.8.0->allennlp)\n",
      "  Downloading https://files.pythonhosted.org/packages/b0/a3/fea98741f0b2f2902fbf6c35c8e91b22cd0dd13387291e81d457f9a93066/sphinxcontrib_devhelp-1.0.1-py2.py3-none-any.whl (84kB)\n",
      "Collecting sphinxcontrib-jsmath (from sphinx>=1.6.5->numpydoc>=0.8.0->allennlp)\n",
      "  Downloading https://files.pythonhosted.org/packages/c2/42/4c8646762ee83602e3fb3fbe774c2fac12f317deb0b5dbeeedd2d3ba4b77/sphinxcontrib_jsmath-1.0.1-py2.py3-none-any.whl\n",
      "Collecting sphinxcontrib-htmlhelp (from sphinx>=1.6.5->numpydoc>=0.8.0->allennlp)\n",
      "  Downloading https://files.pythonhosted.org/packages/e4/35/80a67cc493f4a8a9634ab203a77aaa1b84d79ccb1c02eca72cb084d2c7f7/sphinxcontrib_htmlhelp-1.0.2-py2.py3-none-any.whl (96kB)\n",
      "Collecting sphinxcontrib-qthelp (from sphinx>=1.6.5->numpydoc>=0.8.0->allennlp)\n",
      "  Downloading https://files.pythonhosted.org/packages/ce/5b/4747c3ba98b3a3e21a66faa183d8f79b9ded70e74212a7988d236a6eb78a/sphinxcontrib_qthelp-1.0.2-py2.py3-none-any.whl (90kB)\n",
      "Collecting sphinxcontrib-serializinghtml (from sphinx>=1.6.5->numpydoc>=0.8.0->allennlp)\n",
      "  Downloading https://files.pythonhosted.org/packages/57/b3/3648e48fa5682e61e9839d62de4e23af1795ceb738d68d73bd974257a95c/sphinxcontrib_serializinghtml-1.1.3-py2.py3-none-any.whl (89kB)\n",
      "Collecting babel!=2.0,>=1.3 (from sphinx>=1.6.5->numpydoc>=0.8.0->allennlp)\n",
      "  Downloading https://files.pythonhosted.org/packages/2c/60/f2af68eb046c5de5b1fe6dd4743bf42c074f7141fe7b2737d3061533b093/Babel-2.7.0-py2.py3-none-any.whl (8.4MB)\n",
      "Collecting snowballstemmer>=1.1 (from sphinx>=1.6.5->numpydoc>=0.8.0->allennlp)\n",
      "  Downloading https://files.pythonhosted.org/packages/51/16/86a280d59b3bb439e7103ea1a275a191e3d2df8a3543cda0708f7cb4333c/snowballstemmer-1.9.1.tar.gz (82kB)\n",
      "Requirement already satisfied: Pygments>=2.0 in d:\\anaconda\\envs\\pysyft\\lib\\site-packages (from sphinx>=1.6.5->numpydoc>=0.8.0->allennlp) (2.4.2)\n",
      "Collecting alabaster<0.8,>=0.7 (from sphinx>=1.6.5->numpydoc>=0.8.0->allennlp)\n",
      "  Downloading https://files.pythonhosted.org/packages/10/ad/00b090d23a222943eb0eda509720a404f531a439e803f6538f35136cae9e/alabaster-0.7.12-py2.py3-none-any.whl\n",
      "Collecting sphinxcontrib-applehelp (from sphinx>=1.6.5->numpydoc>=0.8.0->allennlp)\n",
      "  Downloading https://files.pythonhosted.org/packages/13/9a/4428b3114d654cb1cd34d90d5e6fab938d5436f94a571155187ea1dd78b4/sphinxcontrib_applehelp-1.0.1-py2.py3-none-any.whl (121kB)\n",
      "Requirement already satisfied: docutils>=0.12 in d:\\anaconda\\envs\\pysyft\\lib\\site-packages (from sphinx>=1.6.5->numpydoc>=0.8.0->allennlp) (0.15.2)\n",
      "Collecting imagesize (from sphinx>=1.6.5->numpydoc>=0.8.0->allennlp)\n",
      "  Downloading https://files.pythonhosted.org/packages/fc/b6/aef66b4c52a6ad6ac18cf6ebc5731ed06d8c9ae4d3b2d9951f261150be67/imagesize-1.1.0-py2.py3-none-any.whl\n",
      "Requirement already satisfied: MarkupSafe>=0.23 in d:\\anaconda\\envs\\pysyft\\lib\\site-packages (from Jinja2>=2.3->numpydoc>=0.8.0->allennlp) (1.1.1)\n",
      "Requirement already satisfied: pycparser in d:\\anaconda\\envs\\pysyft\\lib\\site-packages (from cffi>=1.11.5; sys_platform == \"win32\" and platform_python_implementation == \"CPython\"->gevent>=1.3.6->allennlp) (2.19)\n",
      "Building wheels for collected packages: numpydoc, overrides, parsimonious, word2number, ftfy, snowballstemmer\n",
      "  Building wheel for numpydoc (setup.py): started\n",
      "  Building wheel for numpydoc (setup.py): finished with status 'done'\n",
      "  Stored in directory: C:\\Users\\NunYurBusiness\\AppData\\Local\\pip\\Cache\\wheels\\51\\30\\d1\\92a39ba40f21cb70e53f8af96eb98f002a781843c065406500\n",
      "  Building wheel for overrides (setup.py): started\n",
      "  Building wheel for overrides (setup.py): finished with status 'done'\n",
      "  Stored in directory: C:\\Users\\NunYurBusiness\\AppData\\Local\\pip\\Cache\\wheels\\8d\\52\\86\\e5a83b1797e7d263b458d2334edd2704c78508b3eea9323718\n",
      "  Building wheel for parsimonious (setup.py): started\n",
      "  Building wheel for parsimonious (setup.py): finished with status 'done'\n",
      "  Stored in directory: C:\\Users\\NunYurBusiness\\AppData\\Local\\pip\\Cache\\wheels\\b7\\8d\\e7\\a0e74217da5caeb3c1c7689639b6d28ddbf9985b840bc96a9a\n",
      "  Building wheel for word2number (setup.py): started\n",
      "  Building wheel for word2number (setup.py): finished with status 'done'\n",
      "  Stored in directory: C:\\Users\\NunYurBusiness\\AppData\\Local\\pip\\Cache\\wheels\\46\\2f\\53\\5f5c1d275492f2fce1cdab9a9bb12d49286dead829a4078e0e\n",
      "  Building wheel for ftfy (setup.py): started\n",
      "  Building wheel for ftfy (setup.py): finished with status 'done'\n",
      "  Stored in directory: C:\\Users\\NunYurBusiness\\AppData\\Local\\pip\\Cache\\wheels\\43\\34\\ce\\cbb38d71543c408de56f3c5e26ce8ba495a0fa5a28eaaf1046\n",
      "  Building wheel for snowballstemmer (setup.py): started\n",
      "  Building wheel for snowballstemmer (setup.py): finished with status 'done'\n",
      "  Stored in directory: C:\\Users\\NunYurBusiness\\AppData\\Local\\pip\\Cache\\wheels\\ae\\9b\\66\\6b8f275ec6dfa2138a56faaf2b4314ca44a4746286560d5578\n",
      "Successfully built numpydoc overrides parsimonious word2number ftfy snowballstemmer\n"
     ]
    },
    {
     "name": "stdout",
     "output_type": "stream",
     "text": [
      "Installing collected packages: tensorboardX, sphinxcontrib-devhelp, sphinxcontrib-jsmath, sphinxcontrib-htmlhelp, sphinxcontrib-qthelp, sphinxcontrib-serializinghtml, babel, snowballstemmer, alabaster, sphinxcontrib-applehelp, imagesize, sphinx, numpydoc, flaky, sqlparse, flask-cors, overrides, parsimonious, unidecode, word2number, regex, pytorch-pretrained-bert, responses, ftfy, greenlet, gevent, conllu, jsonpickle, sentencepiece, pytorch-transformers, editdistance, allennlp\n",
      "Successfully installed alabaster-0.7.12 allennlp-0.8.5 babel-2.7.0 conllu-1.3.1 editdistance-0.5.3 flaky-3.6.1 flask-cors-3.0.8 ftfy-5.6 gevent-1.4.0 greenlet-0.4.15 imagesize-1.1.0 jsonpickle-1.2 numpydoc-0.9.1 overrides-1.9 parsimonious-0.8.1 pytorch-pretrained-bert-0.6.2 pytorch-transformers-1.1.0 regex-2019.8.19 responses-0.10.6 sentencepiece-0.1.83 snowballstemmer-1.9.1 sphinx-2.2.0 sphinxcontrib-applehelp-1.0.1 sphinxcontrib-devhelp-1.0.1 sphinxcontrib-htmlhelp-1.0.2 sphinxcontrib-jsmath-1.0.1 sphinxcontrib-qthelp-1.0.2 sphinxcontrib-serializinghtml-1.1.3 sqlparse-0.3.0 tensorboardX-1.8 unidecode-1.1.1 word2number-1.1\n"
     ]
    }
   ],
   "source": [
    "!pip install allennlp"
   ]
  },
  {
   "cell_type": "code",
   "execution_count": null,
   "metadata": {},
   "outputs": [],
   "source": []
  }
 ],
 "metadata": {
  "kernelspec": {
   "display_name": "Python 3",
   "language": "python",
   "name": "python3"
  },
  "language_info": {
   "codemirror_mode": {
    "name": "ipython",
    "version": 3
   },
   "file_extension": ".py",
   "mimetype": "text/x-python",
   "name": "python",
   "nbconvert_exporter": "python",
   "pygments_lexer": "ipython3",
   "version": "3.7.3"
  }
 },
 "nbformat": 4,
 "nbformat_minor": 2
}
