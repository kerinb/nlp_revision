{
 "cells": [
  {
   "cell_type": "code",
   "execution_count": 15,
   "metadata": {},
   "outputs": [],
   "source": [
    "# import all libraries\n",
    "import keras\n",
    "from keras.models import Sequential\n",
    "from keras.layers import Dense, Activation, Dropout\n",
    "from keras.layers.convolutional import Conv1D\n",
    "from keras.preprocessing.text import Tokenizer\n",
    "from keras.preprocessing.sequence import pad_sequences\n",
    "import pandas as pd\n",
    "import numpy as np\n",
    "import spacy\n",
    "nlp=spacy.load('en_core_web_sm')\n",
    "\n",
    "from gensim.models import "
   ]
  },
  {
   "cell_type": "code",
   "execution_count": 16,
   "metadata": {},
   "outputs": [],
   "source": [
    "# load in data from csv into pandas df\n",
    "train_data = pd.read_csv(\"D://Datasets//training.1600000.processed.noemoticon.csv\", encoding=\"latin-1\")\n",
    "Y_data = train_data[train_data.columns[0]]\n",
    "X_data = train_data[train_data.columns[5]]"
   ]
  },
  {
   "cell_type": "code",
   "execution_count": 54,
   "metadata": {},
   "outputs": [],
   "source": [
    "x_data_as_list = []\n",
    "for tweet in X_data:\n",
    "    x_data_as_list.append(tweet.split(\" \"))\n"
   ]
  },
  {
   "cell_type": "code",
   "execution_count": 55,
   "metadata": {},
   "outputs": [],
   "source": [
    "# split the data into train and test sets\n",
    "X_train, X_test, y_train, y_test = train_test_split(X_data.values, Y_data.values, \n",
    "                                                    test_size=0.02, random_state=42)\n",
    "y_test = pd.get_dummies(y_test)"
   ]
  },
  {
   "cell_type": "code",
   "execution_count": 56,
   "metadata": {},
   "outputs": [],
   "source": [
    "# function used to remove stop words\n",
    "def stopwords(sentence):\n",
    "    new = []\n",
    "    sentence = nlp(sentence)\n",
    "    for w in sentence:\n",
    "        if (w.is_stop == False) & (w.pos != \"PUNCT\"):\n",
    "            new.append(w.string.strip())\n",
    "        c = \" \".join(str(x) for x in new)\n",
    "    return c"
   ]
  },
  {
   "cell_type": "code",
   "execution_count": 57,
   "metadata": {},
   "outputs": [],
   "source": [
    "# function to lemmatize the tweets\n",
    "def lemmatize(sentence):\n",
    "    sentence = nlp(sentence)\n",
    "    str_=\"\"\n",
    "    \n",
    "    for w in sentence:\n",
    "        str_ += str(w.lemma)\n",
    "    return nlp(str_)"
   ]
  },
  {
   "cell_type": "code",
   "execution_count": 70,
   "metadata": {},
   "outputs": [
    {
     "name": "stdout",
     "output_type": "stream",
     "text": [
      "Loading Glove Model\n",
      "Done.\n"
     ]
    }
   ],
   "source": [
    "def loadGloveModel(gloveFile):\n",
    "    print(\"Loading Glove Model\")\n",
    "    f = open(gloveFile,'r', encoding=\"utf8\")\n",
    "    model = {}\n",
    "    for line in f:\n",
    "        splitLine = line.split()\n",
    "        word = splitLine[0]\n",
    "        embedding = [float(val) for val in splitLine[1:]]\n",
    "        model[word] = embedding\n",
    "    print (\"Done.\"),len(model),(\" words loaded!\")\n",
    "    return model\n",
    "\n",
    "# save the glove model\n",
    "model=loadGloveModel(\"D://Datasets//glove//twitter_embeddings//glove.twitter.27B.200d.txt\")"
   ]
  },
  {
   "cell_type": "code",
   "execution_count": 71,
   "metadata": {},
   "outputs": [],
   "source": [
    "#vectorising the sentences\n",
    "def sent_vectorizer(sent, model):\n",
    "    sent_vec = np.zeros(200)\n",
    "    numw = 0\n",
    "    for w in sent.split():\n",
    "        try:\n",
    "            sent_vec = np.add(sent_vec, model[str(w)])\n",
    "            numw+=1\n",
    "        except:\n",
    "            pass\n",
    "    return sent_vec\n"
   ]
  },
  {
   "cell_type": "code",
   "execution_count": 72,
   "metadata": {},
   "outputs": [],
   "source": [
    "#obtain a clean vector\n",
    "cleanvector=[]\n",
    "for i in range(X_test.shape[0]):\n",
    "    document=X_test[i]\n",
    "    document=document.lower()\n",
    "    document=lemmatize(document)\n",
    "    document=str(document)\n",
    "    cleanvector.append(sent_vectorizer(document,model))\n",
    "\n",
    "#Getting the input and output in proper shape\n",
    "cleanvector=np.array(cleanvector)\n",
    "cleanvector =cleanvector.reshape(len(cleanvector),200,1)"
   ]
  },
  {
   "cell_type": "code",
   "execution_count": 73,
   "metadata": {},
   "outputs": [
    {
     "name": "stdout",
     "output_type": "stream",
     "text": [
      "Found 1873 unique tokens.\n",
      "(400, 15)\n"
     ]
    }
   ],
   "source": [
    "#tokenizing the sequences\n",
    "tokenizer = Tokenizer(num_words=16000)\n",
    "tokenizer.fit_on_texts(X_test)\n",
    "sequences = tokenizer.texts_to_sequences(X_test)\n",
    "word_index = tokenizer.word_index\n",
    "print('Found %s unique tokens.' % len(word_index))\n",
    "data = pad_sequences(sequences, maxlen=15, padding=\"post\")\n",
    "print(data.shape)\n",
    "\n",
    "#reshape the data and preparing to train\n",
    "data=data.reshape(len(cleanvector),15,1)\n",
    "from sklearn.model_selection import train_test_split\n",
    "trainx, validx, trainy, validy = train_test_split(data, trainset2y, test_size=0.3,random_state=42 )"
   ]
  },
  {
   "cell_type": "code",
   "execution_count": 76,
   "metadata": {},
   "outputs": [
    {
     "name": "stdout",
     "output_type": "stream",
     "text": [
      "Null word embeddings: 346\n",
      "Train on 280 samples, validate on 120 samples\n",
      "Epoch 1/10\n",
      "280/280 [==============================] - ETA: 4s - loss: 0.7042 - acc: 0.500 - ETA: 1s - loss: 2.3287 - acc: 0.492 - ETA: 0s - loss: 1.9113 - acc: 0.479 - ETA: 0s - loss: 1.6619 - acc: 0.500 - 2s 8ms/step - loss: 1.5858 - acc: 0.4893 - val_loss: 0.7445 - val_acc: 0.5083\n",
      "Epoch 2/10\n",
      "280/280 [==============================] - ETA: 0s - loss: 0.7722 - acc: 0.468 - ETA: 0s - loss: 0.7472 - acc: 0.453 - ETA: 0s - loss: 0.7289 - acc: 0.474 - ETA: 0s - loss: 0.7210 - acc: 0.484 - 1s 4ms/step - loss: 0.7214 - acc: 0.4679 - val_loss: 0.9002 - val_acc: 0.5083\n",
      "Epoch 3/10\n",
      "280/280 [==============================] - ETA: 0s - loss: 0.9756 - acc: 0.453 - ETA: 0s - loss: 0.8184 - acc: 0.539 - ETA: 0s - loss: 0.7788 - acc: 0.520 - ETA: 0s - loss: 0.7765 - acc: 0.484 - 1s 4ms/step - loss: 0.7741 - acc: 0.4679 - val_loss: 0.6994 - val_acc: 0.4917\n",
      "Epoch 4/10\n",
      "280/280 [==============================] - ETA: 0s - loss: 0.7156 - acc: 0.406 - ETA: 0s - loss: 0.7046 - acc: 0.453 - ETA: 0s - loss: 0.6979 - acc: 0.500 - ETA: 0s - loss: 0.7089 - acc: 0.488 - 1s 4ms/step - loss: 0.7081 - acc: 0.4893 - val_loss: 0.6956 - val_acc: 0.4917\n",
      "Epoch 5/10\n",
      "280/280 [==============================] - ETA: 0s - loss: 0.6980 - acc: 0.468 - ETA: 0s - loss: 0.7005 - acc: 0.476 - ETA: 0s - loss: 0.6996 - acc: 0.479 - ETA: 0s - loss: 0.6971 - acc: 0.500 - 1s 4ms/step - loss: 0.6968 - acc: 0.5036 - val_loss: 0.7131 - val_acc: 0.5083\n",
      "Epoch 6/10\n",
      "280/280 [==============================] - ETA: 0s - loss: 0.6963 - acc: 0.546 - ETA: 0s - loss: 0.7018 - acc: 0.523 - ETA: 0s - loss: 0.6977 - acc: 0.541 - ETA: 0s - loss: 0.6966 - acc: 0.523 - 1s 4ms/step - loss: 0.6978 - acc: 0.5107 - val_loss: 0.6936 - val_acc: 0.5083\n",
      "Epoch 7/10\n",
      "280/280 [==============================] - ETA: 0s - loss: 0.6929 - acc: 0.515 - ETA: 0s - loss: 0.6721 - acc: 0.601 - ETA: 0s - loss: 0.6859 - acc: 0.583 - ETA: 0s - loss: 0.7115 - acc: 0.550 - 1s 4ms/step - loss: 0.7178 - acc: 0.5321 - val_loss: 0.6950 - val_acc: 0.4917\n",
      "Epoch 8/10\n",
      "280/280 [==============================] - ETA: 0s - loss: 0.7000 - acc: 0.437 - ETA: 0s - loss: 0.7123 - acc: 0.445 - ETA: 0s - loss: 0.7096 - acc: 0.468 - ETA: 0s - loss: 0.7107 - acc: 0.468 - 1s 4ms/step - loss: 0.7100 - acc: 0.4679 - val_loss: 0.6930 - val_acc: 0.5083\n",
      "Epoch 9/10\n",
      "280/280 [==============================] - ETA: 0s - loss: 0.6911 - acc: 0.562 - ETA: 0s - loss: 0.6863 - acc: 0.570 - ETA: 0s - loss: 0.6895 - acc: 0.562 - ETA: 0s - loss: 0.6935 - acc: 0.550 - 1s 4ms/step - loss: 0.6952 - acc: 0.5321 - val_loss: 0.7146 - val_acc: 0.4917\n",
      "Epoch 10/10\n",
      "280/280 [==============================] - ETA: 0s - loss: 0.7353 - acc: 0.437 - ETA: 0s - loss: 0.7210 - acc: 0.468 - ETA: 0s - loss: 0.7145 - acc: 0.463 - ETA: 0s - loss: 0.7087 - acc: 0.480 - 1s 4ms/step - loss: 0.7088 - acc: 0.4821 - val_loss: 0.7011 - val_acc: 0.5083\n"
     ]
    },
    {
     "data": {
      "text/plain": [
       "<keras.callbacks.History at 0x16d91cabfd0>"
      ]
     },
     "execution_count": 76,
     "metadata": {},
     "output_type": "execute_result"
    }
   ],
   "source": [
    "#calculate the number of words\n",
    "nb_words=len(tokenizer.word_index)+1\n",
    "\n",
    "#obtain theembedding matrix\n",
    "embedding_matrix = np.zeros((nb_words, 200))\n",
    "for word, i in word_index.items():\n",
    "    embedding_vector = model.get(word)\n",
    "    if embedding_vector is not None:\n",
    "        embedding_matrix[i] = embedding_vector\n",
    "print('Null word embeddings: %d' % np.sum(np.sum(embedding_matrix, axis=1) == 0))\n",
    "\n",
    "trainy=np.array(trainy)\n",
    "validy=np.array(validy)\n",
    "\n",
    "#building a simple RNN model\n",
    "def modelbuild():\n",
    "    model = Sequential()\n",
    "    model.add(keras.layers.InputLayer(input_shape=(15,1)))\n",
    "    keras.layers.embeddings.Embedding(nb_words, 15, weights=[embedding_matrix], input_length=15,\n",
    "    trainable=False)\n",
    " \n",
    "    model.add(keras.layers.recurrent.SimpleRNN(units = 100, activation='relu',\n",
    "    use_bias=True))\n",
    "    model.add(keras.layers.Dense(units=1750, input_dim = 2000, activation='sigmoid'))\n",
    "    model.add(keras.layers.Dense(units=1500, input_dim = 1750, activation='relu'))\n",
    "    model.add(keras.layers.Dense(units=1000, input_dim=1500, activation='relu'))\n",
    "    model.add(keras.layers.Dense(units=1000, input_dim=750, activation='relu'))\n",
    "    model.add(keras.layers.Dense(units=750, input_dim=500, activation='relu'))\n",
    "    model.add(keras.layers.Dense(units=2, input_dim=500,activation='softmax'))\n",
    "    model.compile(loss='categorical_crossentropy', optimizer='adam', metrics=['accuracy'])\n",
    "    return model\n",
    "   \n",
    "#compiling the model\n",
    "finalmodel = modelbuild()\n",
    "finalmodel.fit(trainx, trainy, epochs=100, batch_size=64,validation_data=(validx,validy))"
   ]
  },
  {
   "cell_type": "code",
   "execution_count": null,
   "metadata": {},
   "outputs": [],
   "source": []
  }
 ],
 "metadata": {
  "kernelspec": {
   "display_name": "Python 3",
   "language": "python",
   "name": "python3"
  },
  "language_info": {
   "codemirror_mode": {
    "name": "ipython",
    "version": 3
   },
   "file_extension": ".py",
   "mimetype": "text/x-python",
   "name": "python",
   "nbconvert_exporter": "python",
   "pygments_lexer": "ipython3",
   "version": "3.7.3"
  }
 },
 "nbformat": 4,
 "nbformat_minor": 2
}
